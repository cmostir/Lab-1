{
  "nbformat": 4,
  "nbformat_minor": 0,
  "metadata": {
    "colab": {
      "name": "Lab1.ipynb",
      "provenance": [],
      "authorship_tag": "ABX9TyM4zqf1v/hq1ckB3a0KtkUP",
      "include_colab_link": true
    },
    "kernelspec": {
      "name": "python3",
      "display_name": "Python 3"
    }
  },
  "cells": [
    {
      "cell_type": "markdown",
      "metadata": {
        "id": "view-in-github",
        "colab_type": "text"
      },
      "source": [
        "<a href=\"https://colab.research.google.com/github/cmostir/Lab-1/blob/master/Lab1.ipynb\" target=\"_parent\"><img src=\"https://colab.research.google.com/assets/colab-badge.svg\" alt=\"Open In Colab\"/></a>"
      ]
    },
    {
      "cell_type": "code",
      "metadata": {
        "id": "Ezb5OysUfv5o",
        "colab_type": "code",
        "colab": {}
      },
      "source": [
        ""
      ],
      "execution_count": null,
      "outputs": []
    },
    {
      "cell_type": "markdown",
      "metadata": {
        "id": "DBP3u2yIfwn8",
        "colab_type": "text"
      },
      "source": [
        "## Do you like using Juptyer Notebooks?\n",
        "\n",
        " "
      ]
    },
    {
      "cell_type": "markdown",
      "metadata": {
        "id": "pZNKKch6gAhm",
        "colab_type": "text"
      },
      "source": [
        "I have never used Juptyer Notebooks before this class but since starting to use it I enjoy it. It is easy to work with."
      ]
    },
    {
      "cell_type": "markdown",
      "metadata": {
        "id": "lhMuzG_2gdhJ",
        "colab_type": "text"
      },
      "source": [
        "## What do you want to learn more about Jupyter Notebokks?"
      ]
    },
    {
      "cell_type": "markdown",
      "metadata": {
        "id": "dxZ23WWQglV3",
        "colab_type": "text"
      },
      "source": [
        "I would like to learn more tricks to Jupyter notebooks. I would also like to learn how to make and share data on it."
      ]
    },
    {
      "cell_type": "markdown",
      "metadata": {
        "id": "IOD0b1uIgnF0",
        "colab_type": "text"
      },
      "source": [
        "![Old Main]()"
      ]
    },
    {
      "cell_type": "markdown",
      "metadata": {
        "id": "xtN64BOWhXHe",
        "colab_type": "text"
      },
      "source": [
        "![Old Main](https://raw.githubusercontent.com/cmostir/Practice-/master/Images/30D6C97F-C233-4CED-BC2F-330C50CCECC8.jpeg)"
      ]
    }
  ]
}